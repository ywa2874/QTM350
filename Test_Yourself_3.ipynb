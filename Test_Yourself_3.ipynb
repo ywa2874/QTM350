{
  "nbformat": 4,
  "nbformat_minor": 0,
  "metadata": {
    "colab": {
      "provenance": [],
      "authorship_tag": "ABX9TyN0arv/+q5ya4R8O3v0Pn0G",
      "include_colab_link": true
    },
    "kernelspec": {
      "name": "python3",
      "display_name": "Python 3"
    },
    "language_info": {
      "name": "python"
    }
  },
  "cells": [
    {
      "cell_type": "markdown",
      "metadata": {
        "id": "view-in-github",
        "colab_type": "text"
      },
      "source": [
        "<a href=\"https://colab.research.google.com/github/ywa2874/QTM350/blob/main/Test_Yourself_3.ipynb\" target=\"_parent\"><img src=\"https://colab.research.google.com/assets/colab-badge.svg\" alt=\"Open In Colab\"/></a>"
      ]
    },
    {
      "cell_type": "code",
      "execution_count": null,
      "metadata": {
        "colab": {
          "base_uri": "https://localhost:8080/"
        },
        "id": "sZuraOwNLKe3",
        "outputId": "a70362d4-88fc-4360-b0c1-5ac48a7766db"
      },
      "outputs": [
        {
          "output_type": "stream",
          "name": "stderr",
          "text": [
            "--2022-09-26 23:41:44--  http://archive.ics.uci.edu/ml/machine-learning-databases/adult/adult.data\n",
            "Resolving archive.ics.uci.edu (archive.ics.uci.edu)... 128.195.10.252\n",
            "Connecting to archive.ics.uci.edu (archive.ics.uci.edu)|128.195.10.252|:80... connected.\n",
            "HTTP request sent, awaiting response... 200 OK\n",
            "Length: 3974305 (3.8M) [application/x-httpd-php]\n",
            "Saving to: ‘adult.data’\n",
            "\n",
            "     0K .......... .......... .......... .......... ..........  1%  193K 20s\n",
            "    50K .......... .......... .......... .......... ..........  2%  383K 15s\n",
            "   100K .......... .......... .......... .......... ..........  3% 17.2M 10s\n",
            "   150K .......... .......... .......... .......... ..........  5% 65.7M 7s\n",
            "   200K .......... .......... .......... .......... ..........  6%  392K 8s\n",
            "   250K .......... .......... .......... .......... ..........  7% 23.4M 6s\n",
            "   300K .......... .......... .......... .......... ..........  9% 9.11M 5s\n",
            "   350K .......... .......... .......... .......... .......... 10% 44.3M 5s\n",
            "   400K .......... .......... .......... .......... .......... 11%  405K 5s\n",
            "   450K .......... .......... .......... .......... .......... 12% 72.0M 4s\n",
            "   500K .......... .......... .......... .......... .......... 14% 14.3M 4s\n",
            "   550K .......... .......... .......... .......... .......... 15% 52.1M 4s\n",
            "   600K .......... .......... .......... .......... .......... 16% 31.7M 3s\n",
            "   650K .......... .......... .......... .......... .......... 18% 48.9M 3s\n",
            "   700K .......... .......... .......... .......... .......... 19% 97.0M 3s\n",
            "   750K .......... .......... .......... .......... .......... 20%  244M 3s\n",
            "   800K .......... .......... .......... .......... .......... 21%  368M 2s\n",
            "   850K .......... .......... .......... .......... .......... 23%  415K 3s\n",
            "   900K .......... .......... .......... .......... .......... 24% 41.8M 2s\n",
            "   950K .......... .......... .......... .......... .......... 25% 75.3M 2s\n",
            "  1000K .......... .......... .......... .......... .......... 27%  333M 2s\n",
            "  1050K .......... .......... .......... .......... .......... 28% 21.7M 2s\n",
            "  1100K .......... .......... .......... .......... .......... 29%  109M 2s\n",
            "  1150K .......... .......... .......... .......... .......... 30%  255M 2s\n",
            "  1200K .......... .......... .......... .......... .......... 32%  215M 2s\n",
            "  1250K .......... .......... .......... .......... .......... 33% 76.9M 2s\n",
            "  1300K .......... .......... .......... .......... .......... 34% 72.9M 1s\n",
            "  1350K .......... .......... .......... .......... .......... 36%  197M 1s\n",
            "  1400K .......... .......... .......... .......... .......... 37%  102M 1s\n",
            "  1450K .......... .......... .......... .......... .......... 38%  121M 1s\n",
            "  1500K .......... .......... .......... .......... .......... 39%  112M 1s\n",
            "  1550K .......... .......... .......... .......... .......... 41%  144M 1s\n",
            "  1600K .......... .......... .......... .......... .......... 42% 71.5M 1s\n",
            "  1650K .......... .......... .......... .......... .......... 43%  125M 1s\n",
            "  1700K .......... .......... .......... .......... .......... 45%  233M 1s\n",
            "  1750K .......... .......... .......... .......... .......... 46%  418K 1s\n",
            "  1800K .......... .......... .......... .......... .......... 47%  101M 1s\n",
            "  1850K .......... .......... .......... .......... .......... 48%  211M 1s\n",
            "  1900K .......... .......... .......... .......... .......... 50%  261M 1s\n",
            "  1950K .......... .......... .......... .......... .......... 51%  309M 1s\n",
            "  2000K .......... .......... .......... .......... .......... 52% 51.3M 1s\n",
            "  2050K .......... .......... .......... .......... .......... 54%  163M 1s\n",
            "  2100K .......... .......... .......... .......... .......... 55% 60.2M 1s\n",
            "  2150K .......... .......... .......... .......... .......... 56%  123M 1s\n",
            "  2200K .......... .......... .......... .......... .......... 57% 52.5M 1s\n",
            "  2250K .......... .......... .......... .......... .......... 59%  242M 1s\n",
            "  2300K .......... .......... .......... .......... .......... 60%  277M 1s\n",
            "  2350K .......... .......... .......... .......... .......... 61% 51.5M 1s\n",
            "  2400K .......... .......... .......... .......... .......... 63% 68.7M 1s\n",
            "  2450K .......... .......... .......... .......... .......... 64%  321M 1s\n",
            "  2500K .......... .......... .......... .......... .......... 65%  358M 0s\n",
            "  2550K .......... .......... .......... .......... .......... 66% 52.4M 0s\n",
            "  2600K .......... .......... .......... .......... .......... 68% 66.9M 0s\n",
            "  2650K .......... .......... .......... .......... .......... 69%  371M 0s\n",
            "  2700K .......... .......... .......... .......... .......... 70%  385M 0s\n",
            "  2750K .......... .......... .......... .......... .......... 72%  277M 0s\n",
            "  2800K .......... .......... .......... .......... .......... 73% 47.4M 0s\n",
            "  2850K .......... .......... .......... .......... .......... 74% 62.6M 0s\n",
            "  2900K .......... .......... .......... .......... .......... 76% 71.2M 0s\n",
            "  2950K .......... .......... .......... .......... .......... 77%  246M 0s\n",
            "  3000K .......... .......... .......... .......... .......... 78%  274M 0s\n",
            "  3050K .......... .......... .......... .......... .......... 79%  391M 0s\n",
            "  3100K .......... .......... .......... .......... .......... 81%  377M 0s\n",
            "  3150K .......... .......... .......... .......... .......... 82% 99.5M 0s\n",
            "  3200K .......... .......... .......... .......... .......... 83% 52.3M 0s\n",
            "  3250K .......... .......... .......... .......... .......... 85% 70.8M 0s\n",
            "  3300K .......... .......... .......... .......... .......... 86% 63.5M 0s\n",
            "  3350K .......... .......... .......... .......... .......... 87%  203M 0s\n",
            "  3400K .......... .......... .......... .......... .......... 88%  308M 0s\n",
            "  3450K .......... .......... .......... .......... .......... 90%  313M 0s\n",
            "  3500K .......... .......... .......... .......... .......... 91%  419M 0s\n",
            "  3550K .......... .......... .......... .......... .......... 92%  442K 0s\n",
            "  3600K .......... .......... .......... .......... .......... 94%  124M 0s\n",
            "  3650K .......... .......... .......... .......... .......... 95%  160M 0s\n",
            "  3700K .......... .......... .......... .......... .......... 96%  193M 0s\n",
            "  3750K .......... .......... .......... .......... .......... 97%  130M 0s\n",
            "  3800K .......... .......... .......... .......... .......... 99%  140M 0s\n",
            "  3850K .......... .......... .......... .                    100% 95.8M=1.0s\n",
            "\n",
            "2022-09-26 23:41:46 (3.64 MB/s) - ‘adult.data’ saved [3974305/3974305]\n",
            "\n"
          ]
        }
      ],
      "source": [
        "%%bash\n",
        "wget http://archive.ics.uci.edu/ml/machine-learning-databases/adult/adult.data\n"
      ]
    },
    {
      "cell_type": "code",
      "source": [
        "%%bash\n",
        "pwd\n",
        "ls\n",
        "wc -l adult.data\n",
        "wc -w adult.data\n",
        "head -n 2 adult.data\n",
        "echo \"age,workclass,fnlwgt,education,education-num,marital-status,occupation,relationship,race,sex,capital-gain,capital-loss,native-country,class\" > header.csv\n",
        "cat header.csv adult.data > adult.csv\n",
        "head -n 1 adult.csv\n"
      ],
      "metadata": {
        "colab": {
          "base_uri": "https://localhost:8080/"
        },
        "id": "OgEsiROuLkLd",
        "outputId": "7231a41e-6820-47cf-93cb-3e0e90bc15df"
      },
      "execution_count": null,
      "outputs": [
        {
          "output_type": "stream",
          "name": "stdout",
          "text": [
            "/content\n",
            "adult.csv\n",
            "adult.data\n",
            "adult_sample.csv\n",
            "adult_sample_with_header.csv\n",
            "header.csv\n",
            "sample_data\n",
            "32562 adult.data\n",
            "488415 adult.data\n",
            "39, State-gov, 77516, Bachelors, 13, Never-married, Adm-clerical, Not-in-family, White, Male, 2174, 0, 40, United-States, <=50K\n",
            "50, Self-emp-not-inc, 83311, Bachelors, 13, Married-civ-spouse, Exec-managerial, Husband, White, Male, 0, 0, 13, United-States, <=50K\n",
            "age,workclass,fnlwgt,education,education-num,marital-status,occupation,relationship,race,sex,capital-gain,capital-loss,native-country,class\n"
          ]
        }
      ]
    },
    {
      "cell_type": "code",
      "source": [
        "%%bash\n",
        "grep \", ?,\" adult.csv | wc -l"
      ],
      "metadata": {
        "colab": {
          "base_uri": "https://localhost:8080/"
        },
        "id": "LjhHO8bmNDZX",
        "outputId": "ccc0eaec-d88e-499d-def6-0068bcb5273e"
      },
      "execution_count": null,
      "outputs": [
        {
          "output_type": "stream",
          "name": "stdout",
          "text": [
            "2399\n"
          ]
        }
      ]
    },
    {
      "cell_type": "code",
      "source": [
        "%%bash\n",
        "sed \"s/, ?,/,,/g\" adult.csv >  new-adult.csv"
      ],
      "metadata": {
        "id": "tM7ZqwHlNoad"
      },
      "execution_count": null,
      "outputs": []
    },
    {
      "cell_type": "code",
      "source": [
        "%%bash\n",
        "head -n 120 new-adult.csv | tail -n 20 > adult_sample.csv"
      ],
      "metadata": {
        "id": "1IM2QbIHOo7C"
      },
      "execution_count": null,
      "outputs": []
    },
    {
      "cell_type": "code",
      "source": [
        "%%bash\n",
        "cat adult_sample.csv header.csv > adult_sample_with_header.csv\n",
        "cat adult_sample_with_header.csv"
      ],
      "metadata": {
        "colab": {
          "base_uri": "https://localhost:8080/"
        },
        "id": "TYwIGD7HO4NU",
        "outputId": "00cc5794-22c8-49ad-aed7-4d1ab46792b8"
      },
      "execution_count": null,
      "outputs": [
        {
          "output_type": "stream",
          "name": "stdout",
          "text": [
            "32, Federal-gov, 249409, HS-grad, 9, Never-married, Other-service, Own-child, Black, Male, 0, 0, 40, United-States, <=50K\n",
            "76, Private, 124191, Masters, 14, Married-civ-spouse, Exec-managerial, Husband, White, Male, 0, 0, 40, United-States, >50K\n",
            "44, Private, 198282, Bachelors, 13, Married-civ-spouse, Exec-managerial, Husband, White, Male, 15024, 0, 60, United-States, >50K\n",
            "47, Self-emp-not-inc, 149116, Masters, 14, Never-married, Prof-specialty, Not-in-family, White, Female, 0, 0, 50, United-States, <=50K\n",
            "20, Private, 188300, Some-college, 10, Never-married, Tech-support, Own-child, White, Female, 0, 0, 40, United-States, <=50K\n",
            "29, Private, 103432, HS-grad, 9, Never-married, Craft-repair, Not-in-family, White, Male, 0, 0, 40, United-States, <=50K\n",
            "32, Self-emp-inc, 317660, HS-grad, 9, Married-civ-spouse, Craft-repair, Husband, White, Male, 7688, 0, 40, United-States, >50K\n",
            "17,, 304873, 10th, 6, Never-married,, Own-child, White, Female, 34095, 0, 32, United-States, <=50K\n",
            "30, Private, 194901, 11th, 7, Never-married, Handlers-cleaners, Own-child, White, Male, 0, 0, 40, United-States, <=50K\n",
            "31, Local-gov, 189265, HS-grad, 9, Never-married, Adm-clerical, Not-in-family, White, Female, 0, 0, 40, United-States, <=50K\n",
            "42, Private, 124692, HS-grad, 9, Married-civ-spouse, Handlers-cleaners, Husband, White, Male, 0, 0, 40, United-States, <=50K\n",
            "24, Private, 432376, Bachelors, 13, Never-married, Sales, Other-relative, White, Male, 0, 0, 40, United-States, <=50K\n",
            "38, Private, 65324, Prof-school, 15, Married-civ-spouse, Prof-specialty, Husband, White, Male, 0, 0, 40, United-States, >50K\n",
            "56, Self-emp-not-inc, 335605, HS-grad, 9, Married-civ-spouse, Other-service, Husband, White, Male, 0, 1887, 50, Canada, >50K\n",
            "28, Private, 377869, Some-college, 10, Married-civ-spouse, Sales, Wife, White, Female, 4064, 0, 25, United-States, <=50K\n",
            "36, Private, 102864, HS-grad, 9, Never-married, Machine-op-inspct, Own-child, White, Female, 0, 0, 40, United-States, <=50K\n",
            "53, Private, 95647, 9th, 5, Married-civ-spouse, Handlers-cleaners, Husband, White, Male, 0, 0, 50, United-States, <=50K\n",
            "56, Self-emp-inc, 303090, Some-college, 10, Married-civ-spouse, Sales, Husband, White, Male, 0, 0, 50, United-States, <=50K\n",
            "49, Local-gov, 197371, Assoc-voc, 11, Married-civ-spouse, Craft-repair, Husband, Black, Male, 0, 0, 40, United-States, >50K\n",
            "55, Private, 247552, Some-college, 10, Married-civ-spouse, Sales, Husband, White, Male, 0, 0, 56, United-States, <=50K\n",
            "age,workclass,fnlwgt,education,education-num,marital-status,occupation,relationship,race,sex,capital-gain,capital-loss,native-country,class\n"
          ]
        }
      ]
    }
  ]
}